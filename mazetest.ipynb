{
 "cells": [
  {
   "cell_type": "code",
   "execution_count": 50,
   "metadata": {},
   "outputs": [
    {
     "data": {
      "image/png": "[encoded data removed]",
      "text/plain": [
       "<Figure size 1000x1000 with 1 Axes>"
      ]
     },
     "metadata": {},
     "output_type": "display_data"
    }
   ],
   "source": [
    "import numpy as np\n",
    "import random\n",
    "import matplotlib.pyplot as plt\n",
    "from qiskit import QuantumCircuit, transpile, assemble\n",
    "from qiskit_aer import AerSimulator\n",
    "from qiskit.visualization import plot_histogram\n",
    "\n",
    "class Maze:\n",
    "    def __init__(self, width, height):\n",
    "        self.width = width\n",
    "        self.height = height\n",
    "        self.grid = np.ones((height, width), dtype=int)  # Walls are 1, paths are 0\n",
    "        self.generate_maze()\n",
    "\n",
    "    def generate_maze(self):\n",
    "        # Start maze generation with a recursive backtracking algorithm\n",
    "        self._recursive_backtracker(1, 1)\n",
    "        # Ensure start and end points\n",
    "        self.grid[1, 0] = 0  # Entry\n",
    "        self.grid[self.height - 2, self.width - 1] = 0  # Exit\n",
    "\n",
    "    def _recursive_backtracker(self, x, y):\n",
    "        self.grid[y, x] = 0  # Mark the current cell as a path\n",
    "        directions = [(0, 1), (1, 0), (0, -1), (-1, 0)]\n",
    "        random.shuffle(directions)\n",
    "        for dx, dy in directions:\n",
    "            nx, ny = x + dx * 2, y + dy * 2\n",
    "            if 1 <= nx < self.width - 1 and 1 <= ny < self.height - 1 and self.grid[ny, nx] == 1:\n",
    "                self.grid[ny - dy, nx - dx] = 0  # Knock down the wall\n",
    "                self._recursive_backtracker(nx, ny)\n",
    "\n",
    "    def display(self):\n",
    "        plt.figure(figsize=(10, 10))\n",
    "        plt.imshow(self.grid, cmap='binary')\n",
    "        plt.xticks([]), plt.yticks([])  # Remove ticks\n",
    "        plt.show()\n",
    "\n",
    "class QuantumWalk2D:\n",
    "    def __init__(self, maze):\n",
    "        self.maze = maze\n",
    "        self.state = np.zeros((maze.height, maze.width))\n",
    "        self.position = (1, 0)\n",
    "\n",
    "    def step(self):\n",
    "        x, y = self.position\n",
    "        directions = []\n",
    "        if x + 1 < self.maze.width and self.maze.grid[y, x + 1] == 0:\n",
    "            directions.append((1, 0))\n",
    "        if x - 1 >= 0 and self.maze.grid[y, x - 1] == 0:\n",
    "            directions.append((-1, 0))\n",
    "        if y + 1 < self.maze.height and self.maze.grid[y + 1, x] == 0:\n",
    "            directions.append((0, 1))\n",
    "        if y - 1 >= 0 and self.maze.grid[y - 1, x] == 0:\n",
    "            directions.append((0, -1))\n",
    "\n",
    "        if directions:\n",
    "            dx, dy = random.choice(directions)\n",
    "            nx, ny = x + dx, y + dy\n",
    "            self.state[ny, nx] += 1\n",
    "            self.position = (nx, ny)\n",
    "\n",
    "    def random_walk(self, steps):\n",
    "        for _ in range(steps):\n",
    "            self.step()\n",
    "\n",
    "    def solve_maze(self):\n",
    "        # Perform multiple random walks\n",
    "        for _ in range(1):  # Increase this number for better frequency visualization\n",
    "            self.position = (1, 0)  # Reset position to the start\n",
    "            self.random_walk(100000000)  # Perform a random walk with more steps\n",
    "\n",
    "    def display(self):\n",
    "        plt.figure(figsize=(10, 10))\n",
    "        plt.imshow(self.state, cmap='hot', interpolation='nearest')\n",
    "        plt.colorbar(label='Frequency of visits')\n",
    "        plt.xticks([]), plt.yticks([])  # Remove ticks\n",
    "        plt.show()\n",
    "\n",
    "# Create a maze and a quantum walk instance\n",
    "maze = Maze(101, 101)\n",
    "maze.display()\n",
    "\n",
    "quantum_walk = QuantumWalk2D(maze)\n",
    "quantum_walk.solve_maze()\n",
    "quantum_walk.display()\n"
   ]
  }
 ],
 "metadata": {
  "kernelspec": {
   "display_name": "Python 3",
   "language": "python",
   "name": "python3"
  },
  "language_info": {
   "codemirror_mode": {
    "name": "ipython",
    "version": 3
   },
   "file_extension": ".py",
   "mimetype": "text/x-python",
   "name": "python",
   "nbconvert_exporter": "python",
   "pygments_lexer": "ipython3",
   "version": "3.11.1"
  },
  "vscode": {
   "interpreter": {
    "hash": "aee8b7b246df8f9039afb4144a1f6fd8d2ca17a180786b69acc140d282b71a49"
   }
  }
 },
 "nbformat": 4,
 "nbformat_minor": 4
}
