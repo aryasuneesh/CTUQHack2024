{
 "cells": [
  {
   "cell_type": "markdown",
   "metadata": {},
   "source": [
    "<font style=\"font-size:28px;\" align=\"left\"><b> Quantum walk </b></font>\n",
    "<br>"
   ]
  },
  {
   "cell_type": "code",
   "execution_count": 1,
   "metadata": {},
   "outputs": [],
   "source": [
    "from qiskit import QuantumCircuit, transpile, assemble\n",
    "from qiskit_aer import Aer, AerSimulator\n",
    "from qiskit.visualization import plot_histogram\n",
    "from qiskit.circuit.library import UnitaryGate\n",
    "import matplotlib.pyplot as plt\n",
    "import numpy as np\n",
    "\n",
    "# Define the number of position qubits (3 qubits for 8 nodes)\n",
    "n_position_qubits = 3\n",
    "\n",
    "N = 2**n_position_qubits\n",
    "\n",
    "matrix_R = np.zeros(N**2).reshape(N, N)\n",
    "\n",
    "matrix_R[np.eye(len(matrix_R), k=-1, dtype='bool')] = 1\n",
    "matrix_R[0, N-1] = 1\n",
    "# print(matrix_R)\n",
    "\n",
    "gate_R = UnitaryGate(matrix_R)\n",
    "\n",
    "# Define a single step of the quantum walk\n",
    "def quantum_walk_step(qc, n_position_qubits):    \n",
    "    # Hadamard gate on the walker qubit\n",
    "    qc.h(n_position_qubits)\n",
    "    \n",
    "    qc.append(gate_R.control(1), list(np.append([n_position_qubits], range(0, n_position_qubits))))"
   ]
  },
  {
   "cell_type": "code",
   "execution_count": 10,
   "metadata": {},
   "outputs": [
    {
     "data": {
      "text/html": [
       "<pre style=\"word-wrap: normal;white-space: pre;background: #fff0;line-height: 1.1;font-family: &quot;Courier New&quot;,Courier,monospace\">     \n",
       "q_3: \n",
       "     \n",
       "q_2: \n",
       "     \n",
       "q_1: \n",
       "     \n",
       "q_0: \n",
       "     \n",
       "c: 3/\n",
       "     </pre>"
      ],
      "text/plain": [
       "     \n",
       "q_3: \n",
       "     \n",
       "q_2: \n",
       "     \n",
       "q_1: \n",
       "     \n",
       "q_0: \n",
       "     \n",
       "c: 3/\n",
       "     "
      ]
     },
     "metadata": {},
     "output_type": "display_data"
    }
   ],
   "source": [
    "# Create the quantum circuit\n",
    "qc = QuantumCircuit(n_position_qubits + 1, n_position_qubits)\n",
    "\n",
    "display(qc.draw(reverse_bits=True))"
   ]
  },
  {
   "cell_type": "code",
   "execution_count": 11,
   "metadata": {},
   "outputs": [
    {
     "data": {
      "text/html": [
       "<pre style=\"word-wrap: normal;white-space: pre;background: #fff0;line-height: 1.1;font-family: &quot;Courier New&quot;,Courier,monospace\">     ┌───┐\n",
       "q_3: ┤ X ├\n",
       "     └───┘\n",
       "q_2: ─────\n",
       "          \n",
       "q_1: ─────\n",
       "          \n",
       "q_0: ─────\n",
       "          \n",
       "c: 3/═════\n",
       "          </pre>"
      ],
      "text/plain": [
       "     ┌───┐\n",
       "q_3: ┤ X ├\n",
       "     └───┘\n",
       "q_2: ─────\n",
       "          \n",
       "q_1: ─────\n",
       "          \n",
       "q_0: ─────\n",
       "          \n",
       "c: 3/═════\n",
       "          "
      ]
     },
     "metadata": {},
     "output_type": "display_data"
    }
   ],
   "source": [
    "# Initial state: set the position qubits to 0 and the walker qubit to 0\n",
    "# Apply an X gate to the walker qubit to start in state |1> (representing moving right)\n",
    "qc.x(n_position_qubits)\n",
    "\n",
    "display(qc.draw(reverse_bits=True))"
   ]
  },
  {
   "cell_type": "code",
   "execution_count": 12,
   "metadata": {},
   "outputs": [
    {
     "data": {
      "text/html": [
       "<pre style=\"word-wrap: normal;white-space: pre;background: #fff0;line-height: 1.1;font-family: &quot;Courier New&quot;,Courier,monospace\">     ┌───┐┌───┐            ┌───┐            ┌───┐            ┌───┐            »\n",
       "q_3: ┤ X ├┤ H ├─────■──────┤ H ├─────■──────┤ H ├─────■──────┤ H ├─────■──────»\n",
       "     └───┘└───┘┌────┴─────┐└───┘┌────┴─────┐└───┘┌────┴─────┐└───┘┌────┴─────┐»\n",
       "q_2: ──────────┤2         ├─────┤2         ├─────┤2         ├─────┤2         ├»\n",
       "               │          │     │          │     │          │     │          │»\n",
       "q_1: ──────────┤1 Unitary ├─────┤1 Unitary ├─────┤1 Unitary ├─────┤1 Unitary ├»\n",
       "               │          │     │          │     │          │     │          │»\n",
       "q_0: ──────────┤0         ├─────┤0         ├─────┤0         ├─────┤0         ├»\n",
       "               └──────────┘     └──────────┘     └──────────┘     └──────────┘»\n",
       "c: 3/═════════════════════════════════════════════════════════════════════════»\n",
       "                                                                              »\n",
       "«     ┌───┐            ┌───┐            ┌───┐            \n",
       "«q_3: ┤ H ├─────■──────┤ H ├─────■──────┤ H ├─────■──────\n",
       "«     └───┘┌────┴─────┐└───┘┌────┴─────┐└───┘┌────┴─────┐\n",
       "«q_2: ─────┤2         ├─────┤2         ├─────┤2         ├\n",
       "«          │          │     │          │     │          │\n",
       "«q_1: ─────┤1 Unitary ├─────┤1 Unitary ├─────┤1 Unitary ├\n",
       "«          │          │     │          │     │          │\n",
       "«q_0: ─────┤0         ├─────┤0         ├─────┤0         ├\n",
       "«          └──────────┘     └──────────┘     └──────────┘\n",
       "«c: 3/═══════════════════════════════════════════════════\n",
       "«                                                        </pre>"
      ],
      "text/plain": [
       "     ┌───┐┌───┐            ┌───┐            ┌───┐            ┌───┐            »\n",
       "q_3: ┤ X ├┤ H ├─────■──────┤ H ├─────■──────┤ H ├─────■──────┤ H ├─────■──────»\n",
       "     └───┘└───┘┌────┴─────┐└───┘┌────┴─────┐└───┘┌────┴─────┐└───┘┌────┴─────┐»\n",
       "q_2: ──────────┤2         ├─────┤2         ├─────┤2         ├─────┤2         ├»\n",
       "               │          │     │          │     │          │     │          │»\n",
       "q_1: ──────────┤1 Unitary ├─────┤1 Unitary ├─────┤1 Unitary ├─────┤1 Unitary ├»\n",
       "               │          │     │          │     │          │     │          │»\n",
       "q_0: ──────────┤0         ├─────┤0         ├─────┤0         ├─────┤0         ├»\n",
       "               └──────────┘     └──────────┘     └──────────┘     └──────────┘»\n",
       "c: 3/═════════════════════════════════════════════════════════════════════════»\n",
       "                                                                              »\n",
       "«     ┌───┐            ┌───┐            ┌───┐            \n",
       "«q_3: ┤ H ├─────■──────┤ H ├─────■──────┤ H ├─────■──────\n",
       "«     └───┘┌────┴─────┐└───┘┌────┴─────┐└───┘┌────┴─────┐\n",
       "«q_2: ─────┤2         ├─────┤2         ├─────┤2         ├\n",
       "«          │          │     │          │     │          │\n",
       "«q_1: ─────┤1 Unitary ├─────┤1 Unitary ├─────┤1 Unitary ├\n",
       "«          │          │     │          │     │          │\n",
       "«q_0: ─────┤0         ├─────┤0         ├─────┤0         ├\n",
       "«          └──────────┘     └──────────┘     └──────────┘\n",
       "«c: 3/═══════════════════════════════════════════════════\n",
       "«                                                        "
      ]
     },
     "metadata": {},
     "output_type": "display_data"
    }
   ],
   "source": [
    "# Apply multiple steps of the quantum walk\n",
    "num_steps = 7\n",
    "for _ in range(num_steps):\n",
    "    quantum_walk_step(qc, n_position_qubits)\n",
    "\n",
    "display(qc.draw(reverse_bits=True))"
   ]
  },
  {
   "cell_type": "code",
   "execution_count": 13,
   "metadata": {},
   "outputs": [
    {
     "name": "stdout",
     "output_type": "stream",
     "text": [
      "{'000': 757, '010': 3973, '100': 13161, '110': 29010, '001': 13333, '111': 795, '011': 7086, '101': 31885}\n"
     ]
    },
    {
     "data": {
      "image/png": "[encoded data removed]",
      "text/plain": [
       "<Figure size 640x480 with 1 Axes>"
      ]
     },
     "metadata": {},
     "output_type": "display_data"
    },
    {
     "data": {
      "text/plain": [
       "qiskit.result.counts.Counts"
      ]
     },
     "execution_count": 13,
     "metadata": {},
     "output_type": "execute_result"
    }
   ],
   "source": [
    "# Measure the position qubits\n",
    "qc.measure(range(n_position_qubits), range(n_position_qubits))\n",
    "\n",
    "num_shots = 100000\n",
    "backend = AerSimulator()\n",
    "comp = transpile(qc, backend) # transpile means transform a quantum circuit into a form that is optimized for execution on a specific quantum backend\n",
    "job_sim = backend.run(comp, shots=num_shots) # run the circuit\n",
    "counts = job_sim.result().get_counts(comp) # extract the results of the code execution (how namy counts of which measurement I got)\n",
    "print(counts)\n",
    "\n",
    "# Get the counts and plot the histogram\n",
    "\n",
    "plt.hist(counts)\n",
    "plt.show()\n",
    "type(counts)"
   ]
  },
  {
   "cell_type": "code",
   "execution_count": null,
   "metadata": {},
   "outputs": [],
   "source": []
  }
 ],
 "metadata": {
  "kernelspec": {
   "display_name": "Python 3 (ipykernel)",
   "language": "python",
   "name": "python3"
  },
  "language_info": {
   "codemirror_mode": {
    "name": "ipython",
    "version": 3
   },
   "file_extension": ".py",
   "mimetype": "text/x-python",
   "name": "python",
   "nbconvert_exporter": "python",
   "pygments_lexer": "ipython3",
   "version": "3.12.3"
  }
 },
 "nbformat": 4,
 "nbformat_minor": 4
}
