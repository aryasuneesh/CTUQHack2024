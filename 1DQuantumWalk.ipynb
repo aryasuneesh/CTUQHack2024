{
 "cells": [
  {
   "cell_type": "markdown",
   "metadata": {},
   "source": [
    "<font style=\"font-size:28px;\" align=\"left\"><b> 1D discrete quantum walk </b></font>\n",
    "<br>"
   ]
  },
  {
   "cell_type": "code",
   "execution_count": 29,
   "metadata": {},
   "outputs": [],
   "source": [
    "from qiskit import QuantumCircuit, transpile, assemble\n",
    "from qiskit_aer import Aer, AerSimulator\n",
    "from qiskit.visualization import plot_histogram\n",
    "from qiskit.circuit.library import UnitaryGate\n",
    "import matplotlib.pyplot as plt\n",
    "import numpy as np\n",
    "\n",
    "# Define the number of position qubits (3 qubits for 8 nodes)\n",
    "n_qubits_per_dim = 3\n",
    "\n",
    "N_per_dim = 2**n_qubits_per_dim\n",
    "\n",
    "matrix_minus = np.zeros(N_per_dim**2).reshape(N_per_dim, N_per_dim)\n",
    "matrix_minus[np.eye(len(matrix_minus), k=1, dtype='bool')] = 1\n",
    "matrix_minus[N_per_dim-1, 0] = 1\n",
    "\n",
    "matrix_plus = np.zeros(N_per_dim**2).reshape(N_per_dim, N_per_dim)\n",
    "matrix_plus[np.eye(len(matrix_plus), k=-1, dtype='bool')] = 1\n",
    "matrix_plus[0, N_per_dim-1] = 1\n",
    "\n",
    "gate_plus = UnitaryGate(matrix_plus, label=\"step plus\")\n",
    "gate_minus = UnitaryGate(matrix_minus, label=\"step minus\")\n",
    "\n",
    "# Define a single step of the quantum walk\n",
    "def quantum_walk_step(qc, n_qubits_per_dim):    \n",
    "    # Hadamard gate on the walker qubit\n",
    "    qc.h(2*n_qubits_per_dim)\n",
    "    \n",
    "    qc.append(gate_plus.control(1), list(np.append([2*n_qubits_per_dim], range(0, n_qubits_per_dim))))\n",
    "    qc.append(gate_minus.control(1, ctrl_state=0), list(np.append([2*n_qubits_per_dim], range(n_qubits_per_dim, 2*n_qubits_per_dim))))"
   ]
  },
  {
   "cell_type": "code",
   "execution_count": 30,
   "metadata": {},
   "outputs": [
    {
     "data": {
      "text/html": [
       "<pre style=\"word-wrap: normal;white-space: pre;background: #fff0;line-height: 1.1;font-family: &quot;Courier New&quot;,Courier,monospace\">     \n",
       "q_6: \n",
       "     \n",
       "q_5: \n",
       "     \n",
       "q_4: \n",
       "     \n",
       "q_3: \n",
       "     \n",
       "q_2: \n",
       "     \n",
       "q_1: \n",
       "     \n",
       "q_0: \n",
       "     \n",
       "c: 6/\n",
       "     </pre>"
      ],
      "text/plain": [
       "     \n",
       "q_6: \n",
       "     \n",
       "q_5: \n",
       "     \n",
       "q_4: \n",
       "     \n",
       "q_3: \n",
       "     \n",
       "q_2: \n",
       "     \n",
       "q_1: \n",
       "     \n",
       "q_0: \n",
       "     \n",
       "c: 6/\n",
       "     "
      ]
     },
     "metadata": {},
     "output_type": "display_data"
    }
   ],
   "source": [
    "# Create the quantum circuit\n",
    "qc = QuantumCircuit(2*n_qubits_per_dim + 1, 2*n_qubits_per_dim)\n",
    "\n",
    "display(qc.draw(reverse_bits=True))"
   ]
  },
  {
   "cell_type": "code",
   "execution_count": 31,
   "metadata": {},
   "outputs": [
    {
     "data": {
      "text/html": [
       "<pre style=\"word-wrap: normal;white-space: pre;background: #fff0;line-height: 1.1;font-family: &quot;Courier New&quot;,Courier,monospace\">     ┌───┐                             ┌───┐                             ┌───┐»\n",
       "q_6: ┤ H ├──────■──────────────o───────┤ H ├──────■──────────────o───────┤ H ├»\n",
       "     └───┘      │       ┌──────┴──────┐└───┘      │       ┌──────┴──────┐└───┘»\n",
       "q_5: ───────────┼───────┤2            ├───────────┼───────┤2            ├─────»\n",
       "                │       │             │           │       │             │     »\n",
       "q_4: ───────────┼───────┤1 step minus ├───────────┼───────┤1 step minus ├─────»\n",
       "                │       │             │           │       │             │     »\n",
       "q_3: ───────────┼───────┤0            ├───────────┼───────┤0            ├─────»\n",
       "          ┌─────┴──────┐└─────────────┘     ┌─────┴──────┐└─────────────┘     »\n",
       "q_2: ─────┤2           ├────────────────────┤2           ├────────────────────»\n",
       "          │            │                    │            │                    »\n",
       "q_1: ─────┤1 step plus ├────────────────────┤1 step plus ├────────────────────»\n",
       "          │            │                    │            │                    »\n",
       "q_0: ─────┤0           ├────────────────────┤0           ├────────────────────»\n",
       "          └────────────┘                    └────────────┘                    »\n",
       "c: 6/═════════════════════════════════════════════════════════════════════════»\n",
       "                                                                              »\n",
       "«                                  \n",
       "«q_6: ──────■──────────────o───────\n",
       "«           │       ┌──────┴──────┐\n",
       "«q_5: ──────┼───────┤2            ├\n",
       "«           │       │             │\n",
       "«q_4: ──────┼───────┤1 step minus ├\n",
       "«           │       │             │\n",
       "«q_3: ──────┼───────┤0            ├\n",
       "«     ┌─────┴──────┐└─────────────┘\n",
       "«q_2: ┤2           ├───────────────\n",
       "«     │            │               \n",
       "«q_1: ┤1 step plus ├───────────────\n",
       "«     │            │               \n",
       "«q_0: ┤0           ├───────────────\n",
       "«     └────────────┘               \n",
       "«c: 6/═════════════════════════════\n",
       "«                                  </pre>"
      ],
      "text/plain": [
       "     ┌───┐                             ┌───┐                             ┌───┐»\n",
       "q_6: ┤ H ├──────■──────────────o───────┤ H ├──────■──────────────o───────┤ H ├»\n",
       "     └───┘      │       ┌──────┴──────┐└───┘      │       ┌──────┴──────┐└───┘»\n",
       "q_5: ───────────┼───────┤2            ├───────────┼───────┤2            ├─────»\n",
       "                │       │             │           │       │             │     »\n",
       "q_4: ───────────┼───────┤1 step minus ├───────────┼───────┤1 step minus ├─────»\n",
       "                │       │             │           │       │             │     »\n",
       "q_3: ───────────┼───────┤0            ├───────────┼───────┤0            ├─────»\n",
       "          ┌─────┴──────┐└─────────────┘     ┌─────┴──────┐└─────────────┘     »\n",
       "q_2: ─────┤2           ├────────────────────┤2           ├────────────────────»\n",
       "          │            │                    │            │                    »\n",
       "q_1: ─────┤1 step plus ├────────────────────┤1 step plus ├────────────────────»\n",
       "          │            │                    │            │                    »\n",
       "q_0: ─────┤0           ├────────────────────┤0           ├────────────────────»\n",
       "          └────────────┘                    └────────────┘                    »\n",
       "c: 6/═════════════════════════════════════════════════════════════════════════»\n",
       "                                                                              »\n",
       "«                                  \n",
       "«q_6: ──────■──────────────o───────\n",
       "«           │       ┌──────┴──────┐\n",
       "«q_5: ──────┼───────┤2            ├\n",
       "«           │       │             │\n",
       "«q_4: ──────┼───────┤1 step minus ├\n",
       "«           │       │             │\n",
       "«q_3: ──────┼───────┤0            ├\n",
       "«     ┌─────┴──────┐└─────────────┘\n",
       "«q_2: ┤2           ├───────────────\n",
       "«     │            │               \n",
       "«q_1: ┤1 step plus ├───────────────\n",
       "«     │            │               \n",
       "«q_0: ┤0           ├───────────────\n",
       "«     └────────────┘               \n",
       "«c: 6/═════════════════════════════\n",
       "«                                  "
      ]
     },
     "metadata": {},
     "output_type": "display_data"
    }
   ],
   "source": [
    "# Apply multiple steps of the quantum walk\n",
    "num_steps = 3\n",
    "for _ in range(num_steps):\n",
    "    quantum_walk_step(qc, n_qubits_per_dim)\n",
    "\n",
    "display(qc.draw(reverse_bits=True))"
   ]
  },
  {
   "cell_type": "code",
   "execution_count": 34,
   "metadata": {},
   "outputs": [
    {
     "name": "stdout",
     "output_type": "stream",
     "text": [
      "{'000010': 12631, '000011': 12404, '000000': 12638, '000001': 62327}\n"
     ]
    },
    {
     "data": {
      "image/png": "[encoded data removed]",
      "text/plain": [
       "<Figure size 640x480 with 1 Axes>"
      ]
     },
     "execution_count": 34,
     "metadata": {},
     "output_type": "execute_result"
    }
   ],
   "source": [
    "# Measure the position qubits\n",
    "qc.measure(range(n_position_qubits), range(n_position_qubits))\n",
    "\n",
    "num_shots = 100000\n",
    "backend = AerSimulator()\n",
    "comp = transpile(qc, backend) # transpile means transform a quantum circuit into a form that is optimized for execution on a specific quantum backend\n",
    "job_sim = backend.run(comp, shots=num_shots) # run the circuit\n",
    "counts = job_sim.result().get_counts(comp) # extract the results of the code execution (how many counts of which measurement I got)\n",
    "print(counts)\n",
    "\n",
    "# Get the counts and plot the histogram\n",
    "\n",
    "plot_histogram(counts)"
   ]
  },
  {
   "cell_type": "code",
   "execution_count": null,
   "metadata": {},
   "outputs": [],
   "source": []
  }
 ],
 "metadata": {
  "kernelspec": {
   "display_name": "Python 3",
   "language": "python",
   "name": "python3"
  },
  "language_info": {
   "codemirror_mode": {
    "name": "ipython",
    "version": 3
   },
   "file_extension": ".py",
   "mimetype": "text/x-python",
   "name": "python",
   "nbconvert_exporter": "python",
   "pygments_lexer": "ipython3",
   "version": "3.11.1"
  },
  "vscode": {
   "interpreter": {
    "hash": "aee8b7b246df8f9039afb4144a1f6fd8d2ca17a180786b69acc140d282b71a49"
   }
  }
 },
 "nbformat": 4,
 "nbformat_minor": 4
}
